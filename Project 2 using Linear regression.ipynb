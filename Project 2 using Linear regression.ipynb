{
 "cells": [
  {
   "cell_type": "code",
   "execution_count": 77,
   "metadata": {},
   "outputs": [],
   "source": [
    "import sqlite3\n",
    "import pandas as pd\n",
    "from sklearn.tree import DecisionTreeRegressor\n",
    "from sklearn.linear_model import LinearRegression\n",
    "from sklearn.model_selection import train_test_split\n",
    "from sklearn.metrics import mean_squared_error\n",
    "from math import sqrt\n",
    "import matplotlib.pyplot as plt\n",
    "import statsmodels.formula.api as smf"
   ]
  },
  {
   "cell_type": "code",
   "execution_count": 2,
   "metadata": {},
   "outputs": [],
   "source": [
    "cnx = sqlite3.connect('database.sqlite')\n",
    "df = pd.read_sql_query(\"SELECT * FROM Player_Attributes\", cnx)"
   ]
  },
  {
   "cell_type": "code",
   "execution_count": 92,
   "metadata": {},
   "outputs": [
    {
     "data": {
      "text/html": [
       "<div>\n",
       "<style scoped>\n",
       "    .dataframe tbody tr th:only-of-type {\n",
       "        vertical-align: middle;\n",
       "    }\n",
       "\n",
       "    .dataframe tbody tr th {\n",
       "        vertical-align: top;\n",
       "    }\n",
       "\n",
       "    .dataframe thead th {\n",
       "        text-align: right;\n",
       "    }\n",
       "</style>\n",
       "<table border=\"1\" class=\"dataframe\">\n",
       "  <thead>\n",
       "    <tr style=\"text-align: right;\">\n",
       "      <th></th>\n",
       "      <th>id</th>\n",
       "      <th>player_fifa_api_id</th>\n",
       "      <th>player_api_id</th>\n",
       "      <th>date</th>\n",
       "      <th>overall_rating</th>\n",
       "      <th>potential</th>\n",
       "      <th>preferred_foot</th>\n",
       "      <th>attacking_work_rate</th>\n",
       "      <th>defensive_work_rate</th>\n",
       "      <th>crossing</th>\n",
       "      <th>...</th>\n",
       "      <th>vision</th>\n",
       "      <th>penalties</th>\n",
       "      <th>marking</th>\n",
       "      <th>standing_tackle</th>\n",
       "      <th>sliding_tackle</th>\n",
       "      <th>gk_diving</th>\n",
       "      <th>gk_handling</th>\n",
       "      <th>gk_kicking</th>\n",
       "      <th>gk_positioning</th>\n",
       "      <th>gk_reflexes</th>\n",
       "    </tr>\n",
       "  </thead>\n",
       "  <tbody>\n",
       "    <tr>\n",
       "      <th>0</th>\n",
       "      <td>1</td>\n",
       "      <td>218353</td>\n",
       "      <td>505942</td>\n",
       "      <td>2016-02-18 00:00:00</td>\n",
       "      <td>67.0</td>\n",
       "      <td>71.0</td>\n",
       "      <td>right</td>\n",
       "      <td>medium</td>\n",
       "      <td>medium</td>\n",
       "      <td>49.0</td>\n",
       "      <td>...</td>\n",
       "      <td>54.0</td>\n",
       "      <td>48.0</td>\n",
       "      <td>65.0</td>\n",
       "      <td>69.0</td>\n",
       "      <td>69.0</td>\n",
       "      <td>6.0</td>\n",
       "      <td>11.0</td>\n",
       "      <td>10.0</td>\n",
       "      <td>8.0</td>\n",
       "      <td>8.0</td>\n",
       "    </tr>\n",
       "    <tr>\n",
       "      <th>1</th>\n",
       "      <td>2</td>\n",
       "      <td>218353</td>\n",
       "      <td>505942</td>\n",
       "      <td>2015-11-19 00:00:00</td>\n",
       "      <td>67.0</td>\n",
       "      <td>71.0</td>\n",
       "      <td>right</td>\n",
       "      <td>medium</td>\n",
       "      <td>medium</td>\n",
       "      <td>49.0</td>\n",
       "      <td>...</td>\n",
       "      <td>54.0</td>\n",
       "      <td>48.0</td>\n",
       "      <td>65.0</td>\n",
       "      <td>69.0</td>\n",
       "      <td>69.0</td>\n",
       "      <td>6.0</td>\n",
       "      <td>11.0</td>\n",
       "      <td>10.0</td>\n",
       "      <td>8.0</td>\n",
       "      <td>8.0</td>\n",
       "    </tr>\n",
       "    <tr>\n",
       "      <th>2</th>\n",
       "      <td>3</td>\n",
       "      <td>218353</td>\n",
       "      <td>505942</td>\n",
       "      <td>2015-09-21 00:00:00</td>\n",
       "      <td>62.0</td>\n",
       "      <td>66.0</td>\n",
       "      <td>right</td>\n",
       "      <td>medium</td>\n",
       "      <td>medium</td>\n",
       "      <td>49.0</td>\n",
       "      <td>...</td>\n",
       "      <td>54.0</td>\n",
       "      <td>48.0</td>\n",
       "      <td>65.0</td>\n",
       "      <td>66.0</td>\n",
       "      <td>69.0</td>\n",
       "      <td>6.0</td>\n",
       "      <td>11.0</td>\n",
       "      <td>10.0</td>\n",
       "      <td>8.0</td>\n",
       "      <td>8.0</td>\n",
       "    </tr>\n",
       "    <tr>\n",
       "      <th>3</th>\n",
       "      <td>4</td>\n",
       "      <td>218353</td>\n",
       "      <td>505942</td>\n",
       "      <td>2015-03-20 00:00:00</td>\n",
       "      <td>61.0</td>\n",
       "      <td>65.0</td>\n",
       "      <td>right</td>\n",
       "      <td>medium</td>\n",
       "      <td>medium</td>\n",
       "      <td>48.0</td>\n",
       "      <td>...</td>\n",
       "      <td>53.0</td>\n",
       "      <td>47.0</td>\n",
       "      <td>62.0</td>\n",
       "      <td>63.0</td>\n",
       "      <td>66.0</td>\n",
       "      <td>5.0</td>\n",
       "      <td>10.0</td>\n",
       "      <td>9.0</td>\n",
       "      <td>7.0</td>\n",
       "      <td>7.0</td>\n",
       "    </tr>\n",
       "    <tr>\n",
       "      <th>4</th>\n",
       "      <td>5</td>\n",
       "      <td>218353</td>\n",
       "      <td>505942</td>\n",
       "      <td>2007-02-22 00:00:00</td>\n",
       "      <td>61.0</td>\n",
       "      <td>65.0</td>\n",
       "      <td>right</td>\n",
       "      <td>medium</td>\n",
       "      <td>medium</td>\n",
       "      <td>48.0</td>\n",
       "      <td>...</td>\n",
       "      <td>53.0</td>\n",
       "      <td>47.0</td>\n",
       "      <td>62.0</td>\n",
       "      <td>63.0</td>\n",
       "      <td>66.0</td>\n",
       "      <td>5.0</td>\n",
       "      <td>10.0</td>\n",
       "      <td>9.0</td>\n",
       "      <td>7.0</td>\n",
       "      <td>7.0</td>\n",
       "    </tr>\n",
       "  </tbody>\n",
       "</table>\n",
       "<p>5 rows × 42 columns</p>\n",
       "</div>"
      ],
      "text/plain": [
       "   id  player_fifa_api_id  player_api_id                 date  overall_rating  \\\n",
       "0   1              218353         505942  2016-02-18 00:00:00            67.0   \n",
       "1   2              218353         505942  2015-11-19 00:00:00            67.0   \n",
       "2   3              218353         505942  2015-09-21 00:00:00            62.0   \n",
       "3   4              218353         505942  2015-03-20 00:00:00            61.0   \n",
       "4   5              218353         505942  2007-02-22 00:00:00            61.0   \n",
       "\n",
       "   potential preferred_foot attacking_work_rate defensive_work_rate  crossing  \\\n",
       "0       71.0          right              medium              medium      49.0   \n",
       "1       71.0          right              medium              medium      49.0   \n",
       "2       66.0          right              medium              medium      49.0   \n",
       "3       65.0          right              medium              medium      48.0   \n",
       "4       65.0          right              medium              medium      48.0   \n",
       "\n",
       "      ...       vision  penalties  marking  standing_tackle  sliding_tackle  \\\n",
       "0     ...         54.0       48.0     65.0             69.0            69.0   \n",
       "1     ...         54.0       48.0     65.0             69.0            69.0   \n",
       "2     ...         54.0       48.0     65.0             66.0            69.0   \n",
       "3     ...         53.0       47.0     62.0             63.0            66.0   \n",
       "4     ...         53.0       47.0     62.0             63.0            66.0   \n",
       "\n",
       "   gk_diving  gk_handling  gk_kicking  gk_positioning  gk_reflexes  \n",
       "0        6.0         11.0        10.0             8.0          8.0  \n",
       "1        6.0         11.0        10.0             8.0          8.0  \n",
       "2        6.0         11.0        10.0             8.0          8.0  \n",
       "3        5.0         10.0         9.0             7.0          7.0  \n",
       "4        5.0         10.0         9.0             7.0          7.0  \n",
       "\n",
       "[5 rows x 42 columns]"
      ]
     },
     "execution_count": 92,
     "metadata": {},
     "output_type": "execute_result"
    }
   ],
   "source": [
    "df.head()"
   ]
  },
  {
   "cell_type": "code",
   "execution_count": 94,
   "metadata": {},
   "outputs": [
    {
     "data": {
      "text/plain": [
       "id                     91989.500000\n",
       "player_fifa_api_id    165671.524291\n",
       "player_api_id         135900.617324\n",
       "overall_rating            68.288295\n",
       "potential                 73.126548\n",
       "crossing                  54.836567\n",
       "finishing                 49.694235\n",
       "heading_accuracy          57.005805\n",
       "short_passing             62.145990\n",
       "volleys                   48.738958\n",
       "dribbling                 58.906261\n",
       "curve                     52.184625\n",
       "free_kick_accuracy        49.156562\n",
       "long_passing              56.810553\n",
       "ball_control              63.100838\n",
       "acceleration              67.351912\n",
       "sprint_speed              67.742018\n",
       "agility                   64.998081\n",
       "reactions                 65.803330\n",
       "balance                   64.228190\n",
       "shot_power                61.527569\n",
       "jumping                   65.981498\n",
       "stamina                   66.733919\n",
       "strength                  67.118150\n",
       "long_shots                53.097055\n",
       "aggression                60.671097\n",
       "interceptions             51.772940\n",
       "positioning               55.533009\n",
       "vision                    57.020127\n",
       "penalties                 54.754047\n",
       "marking                   46.559708\n",
       "standing_tackle           50.122460\n",
       "sliding_tackle            47.293617\n",
       "gk_diving                 14.637576\n",
       "gk_handling               15.990618\n",
       "gk_kicking                20.902945\n",
       "gk_positioning            16.058849\n",
       "gk_reflexes               16.366729\n",
       "dtype: float64"
      ]
     },
     "execution_count": 94,
     "metadata": {},
     "output_type": "execute_result"
    }
   ],
   "source": [
    "df.mean()"
   ]
  },
  {
   "cell_type": "code",
   "execution_count": 39,
   "metadata": {},
   "outputs": [],
   "source": [
    "df.fillna(df.mean,inplace=True)"
   ]
  },
  {
   "cell_type": "code",
   "execution_count": 40,
   "metadata": {},
   "outputs": [
    {
     "data": {
      "text/plain": [
       "0    54.0\n",
       "1    54.0\n",
       "Name: stamina, dtype: float64"
      ]
     },
     "execution_count": 40,
     "metadata": {},
     "output_type": "execute_result"
    }
   ],
   "source": [
    "df.stamina.head(2)"
   ]
  },
  {
   "cell_type": "code",
   "execution_count": 41,
   "metadata": {},
   "outputs": [
    {
     "data": {
      "text/plain": [
       "Index(['id', 'player_fifa_api_id', 'player_api_id', 'date', 'overall_rating',\n",
       "       'potential', 'preferred_foot', 'attacking_work_rate',\n",
       "       'defensive_work_rate', 'crossing', 'finishing', 'heading_accuracy',\n",
       "       'short_passing', 'volleys', 'dribbling', 'curve', 'free_kick_accuracy',\n",
       "       'long_passing', 'ball_control', 'acceleration', 'sprint_speed',\n",
       "       'agility', 'reactions', 'balance', 'shot_power', 'jumping', 'stamina',\n",
       "       'strength', 'long_shots', 'aggression', 'interceptions', 'positioning',\n",
       "       'vision', 'penalties', 'marking', 'standing_tackle', 'sliding_tackle',\n",
       "       'gk_diving', 'gk_handling', 'gk_kicking', 'gk_positioning',\n",
       "       'gk_reflexes'],\n",
       "      dtype='object')"
      ]
     },
     "execution_count": 41,
     "metadata": {},
     "output_type": "execute_result"
    }
   ],
   "source": [
    "df.columns"
   ]
  },
  {
   "cell_type": "code",
   "execution_count": 42,
   "metadata": {},
   "outputs": [],
   "source": [
    "#Using multiple linear regression\n",
    "x=df[['potential', 'strength', 'vision', 'shot_power','stamina']]\n",
    "y=df['overall_rating']"
   ]
  },
  {
   "cell_type": "code",
   "execution_count": 43,
   "metadata": {},
   "outputs": [
    {
     "data": {
      "text/plain": [
       "<matplotlib.collections.PathCollection at 0x1a1d5ee860>"
      ]
     },
     "execution_count": 43,
     "metadata": {},
     "output_type": "execute_result"
    },
    {
     "data": {
      "image/png": "[encoded data removed]",
      "text/plain": [
       "<Figure size 432x288 with 1 Axes>"
      ]
     },
     "metadata": {
      "needs_background": "light"
     },
     "output_type": "display_data"
    }
   ],
   "source": [
    "plt.scatter(df.potential,y)\n",
    "plt.scatter(df.strength,y)\n",
    "plt.scatter(df.vision,y)\n",
    "plt.scatter(df.shot_power,y)\n",
    "plt.scatter(df.stamina,y) \n",
    "# In this we can see there are 3 outlier points."
   ]
  },
  {
   "cell_type": "code",
   "execution_count": 44,
   "metadata": {},
   "outputs": [],
   "source": [
    "import seaborn as sns"
   ]
  },
  {
   "cell_type": "code",
   "execution_count": 47,
   "metadata": {},
   "outputs": [
    {
     "name": "stderr",
     "output_type": "stream",
     "text": [
      "/anaconda3/lib/python3.7/site-packages/scipy/stats/stats.py:1713: FutureWarning: Using a non-tuple sequence for multidimensional indexing is deprecated; use `arr[tuple(seq)]` instead of `arr[seq]`. In the future this will be interpreted as an array index, `arr[np.array(seq)]`, which will result either in an error or a different result.\n",
      "  return np.add.reduce(sorted[indexer] * weights, axis=axis) / sumval\n"
     ]
    },
    {
     "data": {
      "text/plain": [
       "<matplotlib.axes._subplots.AxesSubplot at 0x1a1d1ba9b0>"
      ]
     },
     "execution_count": 47,
     "metadata": {},
     "output_type": "execute_result"
    },
    {
     "data": {
      "image/png": "[encoded data removed]",
      "text/plain": [
       "<Figure size 432x288 with 1 Axes>"
      ]
     },
     "metadata": {
      "needs_background": "light"
     },
     "output_type": "display_data"
    }
   ],
   "source": [
    "sns.distplot(y, hist=True, color = 'blue',\n",
    "             hist_kws={'edgecolor':'black'})"
   ]
  },
  {
   "cell_type": "code",
   "execution_count": 95,
   "metadata": {},
   "outputs": [
    {
     "name": "stderr",
     "output_type": "stream",
     "text": [
      "/anaconda3/lib/python3.7/site-packages/pandas/core/generic.py:7626: SettingWithCopyWarning: \n",
      "A value is trying to be set on a copy of a slice from a DataFrame\n",
      "\n",
      "See the caveats in the documentation: http://pandas.pydata.org/pandas-docs/stable/indexing.html#indexing-view-versus-copy\n",
      "  self._update_inplace(new_data)\n",
      "/anaconda3/lib/python3.7/site-packages/IPython/core/interactiveshell.py:2961: SettingWithCopyWarning: \n",
      "A value is trying to be set on a copy of a slice from a DataFrame\n",
      "\n",
      "See the caveats in the documentation: http://pandas.pydata.org/pandas-docs/stable/indexing.html#indexing-view-versus-copy\n",
      "  exec(code_obj, self.user_global_ns, self.user_ns)\n"
     ]
    }
   ],
   "source": [
    "# Outlier treatment\n",
    "for col in x.columns:\n",
    "    q1 = x[col].quantile(0.25)\n",
    "    q3 = x[col].quantile(0.75)\n",
    "    iqr = q3-q1 #Interquartile range\n",
    "    low  = q1-1.5*iqr\n",
    "    high = q3+1.5*iqr\n",
    "    percentiles = x[col].quantile([0.01,0.99]).values\n",
    "    x[col][x[col] <= low] = percentiles[0]\n",
    "    x[col][x[col] >= high] = percentiles[1]\n",
    "\n"
   ]
  },
  {
   "cell_type": "code",
   "execution_count": 96,
   "metadata": {},
   "outputs": [
    {
     "data": {
      "text/plain": [
       "25.0"
      ]
     },
     "execution_count": 96,
     "metadata": {},
     "output_type": "execute_result"
    }
   ],
   "source": [
    "percentiles[0]"
   ]
  },
  {
   "cell_type": "code",
   "execution_count": 58,
   "metadata": {
    "scrolled": true
   },
   "outputs": [
    {
     "data": {
      "text/plain": [
       "potential     65.0\n",
       "strength      51.0\n",
       "vision        34.0\n",
       "shot_power    36.0\n",
       "stamina       50.0\n",
       "Name: 0.1, dtype: float64"
      ]
     },
     "execution_count": 58,
     "metadata": {},
     "output_type": "execute_result"
    }
   ],
   "source": [
    "x.quantile(0.1)"
   ]
  },
  {
   "cell_type": "code",
   "execution_count": 71,
   "metadata": {},
   "outputs": [
    {
     "data": {
      "text/plain": [
       "LinearRegression(copy_X=True, fit_intercept=True, n_jobs=1, normalize=False)"
      ]
     },
     "execution_count": 71,
     "metadata": {},
     "output_type": "execute_result"
    }
   ],
   "source": [
    "lm = LinearRegression()\n",
    "lm.fit(x, y)"
   ]
  },
  {
   "cell_type": "code",
   "execution_count": null,
   "metadata": {},
   "outputs": [],
   "source": []
  },
  {
   "cell_type": "code",
   "execution_count": 72,
   "metadata": {},
   "outputs": [
    {
     "name": "stdout",
     "output_type": "stream",
     "text": [
      "-5.970438705000831\n",
      "[0.74600806 0.17757588 0.09096692 0.03675862 0.00202177]\n"
     ]
    }
   ],
   "source": [
    "print(lm.intercept_)\n",
    "print(lm.coef_)"
   ]
  },
  {
   "cell_type": "code",
   "execution_count": 79,
   "metadata": {},
   "outputs": [],
   "source": [
    "lm1 = smf.ols(formula='overall_rating ~  potential + strength + vision + shot_power+ stamina ', data=df).fit()"
   ]
  },
  {
   "cell_type": "code",
   "execution_count": 80,
   "metadata": {},
   "outputs": [
    {
     "data": {
      "text/html": [
       "<table class=\"simpletable\">\n",
       "<caption>OLS Regression Results</caption>\n",
       "<tr>\n",
       "  <th>Dep. Variable:</th>     <td>overall_rating</td>  <th>  R-squared:         </th>  <td>   0.770</td>  \n",
       "</tr>\n",
       "<tr>\n",
       "  <th>Model:</th>                   <td>OLS</td>       <th>  Adj. R-squared:    </th>  <td>   0.770</td>  \n",
       "</tr>\n",
       "<tr>\n",
       "  <th>Method:</th>             <td>Least Squares</td>  <th>  F-statistic:       </th>  <td>1.232e+05</td> \n",
       "</tr>\n",
       "<tr>\n",
       "  <th>Date:</th>             <td>Sat, 11 May 2019</td> <th>  Prob (F-statistic):</th>   <td>  0.00</td>   \n",
       "</tr>\n",
       "<tr>\n",
       "  <th>Time:</th>                 <td>14:56:13</td>     <th>  Log-Likelihood:    </th> <td>-5.1749e+05</td>\n",
       "</tr>\n",
       "<tr>\n",
       "  <th>No. Observations:</th>      <td>183978</td>      <th>  AIC:               </th>  <td>1.035e+06</td> \n",
       "</tr>\n",
       "<tr>\n",
       "  <th>Df Residuals:</th>          <td>183972</td>      <th>  BIC:               </th>  <td>1.035e+06</td> \n",
       "</tr>\n",
       "<tr>\n",
       "  <th>Df Model:</th>              <td>     5</td>      <th>                     </th>      <td> </td>     \n",
       "</tr>\n",
       "<tr>\n",
       "  <th>Covariance Type:</th>      <td>nonrobust</td>    <th>                     </th>      <td> </td>     \n",
       "</tr>\n",
       "</table>\n",
       "<table class=\"simpletable\">\n",
       "<tr>\n",
       "       <td></td>         <th>coef</th>     <th>std err</th>      <th>t</th>      <th>P>|t|</th>  <th>[0.025</th>    <th>0.975]</th>  \n",
       "</tr>\n",
       "<tr>\n",
       "  <th>Intercept</th>  <td>    1.3572</td> <td>    0.088</td> <td>   15.389</td> <td> 0.000</td> <td>    1.184</td> <td>    1.530</td>\n",
       "</tr>\n",
       "<tr>\n",
       "  <th>potential</th>  <td>    0.7186</td> <td>    0.001</td> <td>  535.630</td> <td> 0.000</td> <td>    0.716</td> <td>    0.721</td>\n",
       "</tr>\n",
       "<tr>\n",
       "  <th>strength</th>   <td>    0.1321</td> <td>    0.001</td> <td>  161.615</td> <td> 0.000</td> <td>    0.130</td> <td>    0.134</td>\n",
       "</tr>\n",
       "<tr>\n",
       "  <th>vision</th>     <td>    0.0537</td> <td>    0.001</td> <td>   67.597</td> <td> 0.000</td> <td>    0.052</td> <td>    0.055</td>\n",
       "</tr>\n",
       "<tr>\n",
       "  <th>shot_power</th> <td>    0.0441</td> <td>    0.001</td> <td>   55.764</td> <td> 0.000</td> <td>    0.043</td> <td>    0.046</td>\n",
       "</tr>\n",
       "<tr>\n",
       "  <th>stamina</th>    <td>   -0.0039</td> <td>    0.001</td> <td>   -4.390</td> <td> 0.000</td> <td>   -0.006</td> <td>   -0.002</td>\n",
       "</tr>\n",
       "</table>\n",
       "<table class=\"simpletable\">\n",
       "<tr>\n",
       "  <th>Omnibus:</th>       <td>16365.925</td> <th>  Durbin-Watson:     </th> <td>   0.355</td> \n",
       "</tr>\n",
       "<tr>\n",
       "  <th>Prob(Omnibus):</th>  <td> 0.000</td>   <th>  Jarque-Bera (JB):  </th> <td>25707.723</td>\n",
       "</tr>\n",
       "<tr>\n",
       "  <th>Skew:</th>           <td>-0.676</td>   <th>  Prob(JB):          </th> <td>    0.00</td> \n",
       "</tr>\n",
       "<tr>\n",
       "  <th>Kurtosis:</th>       <td> 4.235</td>   <th>  Cond. No.          </th> <td>1.39e+03</td> \n",
       "</tr>\n",
       "</table><br/><br/>Warnings:<br/>[1] Standard Errors assume that the covariance matrix of the errors is correctly specified.<br/>[2] The condition number is large, 1.39e+03. This might indicate that there are<br/>strong multicollinearity or other numerical problems."
      ],
      "text/plain": [
       "<class 'statsmodels.iolib.summary.Summary'>\n",
       "\"\"\"\n",
       "                            OLS Regression Results                            \n",
       "==============================================================================\n",
       "Dep. Variable:         overall_rating   R-squared:                       0.770\n",
       "Model:                            OLS   Adj. R-squared:                  0.770\n",
       "Method:                 Least Squares   F-statistic:                 1.232e+05\n",
       "Date:                Sat, 11 May 2019   Prob (F-statistic):               0.00\n",
       "Time:                        14:56:13   Log-Likelihood:            -5.1749e+05\n",
       "No. Observations:              183978   AIC:                         1.035e+06\n",
       "Df Residuals:                  183972   BIC:                         1.035e+06\n",
       "Df Model:                           5                                         \n",
       "Covariance Type:            nonrobust                                         \n",
       "==============================================================================\n",
       "                 coef    std err          t      P>|t|      [0.025      0.975]\n",
       "------------------------------------------------------------------------------\n",
       "Intercept      1.3572      0.088     15.389      0.000       1.184       1.530\n",
       "potential      0.7186      0.001    535.630      0.000       0.716       0.721\n",
       "strength       0.1321      0.001    161.615      0.000       0.130       0.134\n",
       "vision         0.0537      0.001     67.597      0.000       0.052       0.055\n",
       "shot_power     0.0441      0.001     55.764      0.000       0.043       0.046\n",
       "stamina       -0.0039      0.001     -4.390      0.000      -0.006      -0.002\n",
       "==============================================================================\n",
       "Omnibus:                    16365.925   Durbin-Watson:                   0.355\n",
       "Prob(Omnibus):                  0.000   Jarque-Bera (JB):            25707.723\n",
       "Skew:                          -0.676   Prob(JB):                         0.00\n",
       "Kurtosis:                       4.235   Cond. No.                     1.39e+03\n",
       "==============================================================================\n",
       "\n",
       "Warnings:\n",
       "[1] Standard Errors assume that the covariance matrix of the errors is correctly specified.\n",
       "[2] The condition number is large, 1.39e+03. This might indicate that there are\n",
       "strong multicollinearity or other numerical problems.\n",
       "\"\"\""
      ]
     },
     "execution_count": 80,
     "metadata": {},
     "output_type": "execute_result"
    }
   ],
   "source": [
    "lm1.summary()"
   ]
  },
  {
   "cell_type": "code",
   "execution_count": 82,
   "metadata": {},
   "outputs": [
    {
     "data": {
      "text/plain": [
       "Intercept     2.093526e-53\n",
       "potential     0.000000e+00\n",
       "strength      0.000000e+00\n",
       "vision        0.000000e+00\n",
       "shot_power    0.000000e+00\n",
       "stamina       1.134354e-05\n",
       "dtype: float64"
      ]
     },
     "execution_count": 82,
     "metadata": {},
     "output_type": "execute_result"
    }
   ],
   "source": [
    "lm1.pvalues \n"
   ]
  },
  {
   "cell_type": "code",
   "execution_count": null,
   "metadata": {},
   "outputs": [],
   "source": []
  },
  {
   "cell_type": "code",
   "execution_count": 85,
   "metadata": {},
   "outputs": [
    {
     "data": {
      "text/plain": [
       "0.7700616562367377"
      ]
     },
     "execution_count": 85,
     "metadata": {},
     "output_type": "execute_result"
    }
   ],
   "source": [
    "lm1.rsquared # R-squared is between 0 and 1, higher values are better because it means that more variance is explained by the model"
   ]
  },
  {
   "cell_type": "code",
   "execution_count": 87,
   "metadata": {},
   "outputs": [
    {
     "data": {
      "text/plain": [
       "0        -0.535014\n",
       "1        -0.535014\n",
       "2        -1.804973\n",
       "3        -1.931240\n",
       "4        -1.931240\n",
       "5         4.556179\n",
       "6         4.556179\n",
       "7         4.393154\n",
       "8         4.393154\n",
       "9         4.393154\n",
       "10        2.901137\n",
       "11        3.155129\n",
       "12        2.901137\n",
       "13        3.586334\n",
       "14        2.094318\n",
       "15        2.094318\n",
       "16        1.094318\n",
       "17       -0.399720\n",
       "18       -0.399720\n",
       "19        0.052779\n",
       "20        0.052779\n",
       "21        0.052779\n",
       "22       -0.492701\n",
       "23       -0.490679\n",
       "24       -1.232644\n",
       "25       -1.232644\n",
       "26       -1.232644\n",
       "27       -1.232644\n",
       "28       -1.232644\n",
       "29       -2.685457\n",
       "            ...   \n",
       "183948   -1.598604\n",
       "183949   -1.598604\n",
       "183950   -5.280597\n",
       "183951   -4.788581\n",
       "183952   -4.788581\n",
       "183953   -0.877408\n",
       "183954   -0.877408\n",
       "183955   -1.268265\n",
       "183956   -1.268265\n",
       "183957   -0.923283\n",
       "183958   -0.923283\n",
       "183959   -0.923283\n",
       "183960   -4.822101\n",
       "183961   -4.822101\n",
       "183962   -4.824123\n",
       "183963   -1.834232\n",
       "183964   -1.834232\n",
       "183965    0.165768\n",
       "183966    3.165768\n",
       "183967    4.021393\n",
       "183968    4.418075\n",
       "183969    4.651699\n",
       "183970    4.651699\n",
       "183971    0.204602\n",
       "183972    2.113635\n",
       "183973    2.717858\n",
       "183974    1.851940\n",
       "183975    0.851940\n",
       "183976    2.279641\n",
       "183977    4.279641\n",
       "Length: 183978, dtype: float64"
      ]
     },
     "execution_count": 87,
     "metadata": {},
     "output_type": "execute_result"
    }
   ],
   "source": [
    "# Plotting density plot\n",
    "\n",
    "import statsmodels.formula.api as sm\n",
    "results = sm.ols(formula='y ~ x', data=df).fit()\n",
    "y_pred = results.predict(x)\n",
    "residual = y.values-y_pred\n",
    "residual"
   ]
  },
  {
   "cell_type": "code",
   "execution_count": 90,
   "metadata": {},
   "outputs": [
    {
     "data": {
      "text/plain": [
       "<matplotlib.collections.PathCollection at 0x1a1de8fef0>"
      ]
     },
     "execution_count": 90,
     "metadata": {},
     "output_type": "execute_result"
    },
    {
     "data": {
      "image/png": "[encoded data removed]",
      "text/plain": [
       "<Figure size 576x360 with 1 Axes>"
      ]
     },
     "metadata": {
      "needs_background": "light"
     },
     "output_type": "display_data"
    }
   ],
   "source": [
    "fig, ax = plt.subplots(figsize=(8,5))\n",
    "ax.scatter(residual, y_pred)"
   ]
  },
  {
   "cell_type": "code",
   "execution_count": 141,
   "metadata": {},
   "outputs": [
    {
     "name": "stderr",
     "output_type": "stream",
     "text": [
      "/anaconda3/lib/python3.7/site-packages/scipy/stats/stats.py:1713: FutureWarning: Using a non-tuple sequence for multidimensional indexing is deprecated; use `arr[tuple(seq)]` instead of `arr[seq]`. In the future this will be interpreted as an array index, `arr[np.array(seq)]`, which will result either in an error or a different result.\n",
      "  return np.add.reduce(sorted[indexer] * weights, axis=axis) / sumval\n"
     ]
    },
    {
     "data": {
      "text/plain": [
       "<seaborn.axisgrid.PairGrid at 0x1a564bd390>"
      ]
     },
     "execution_count": 141,
     "metadata": {},
     "output_type": "execute_result"
    },
    {
     "data": {
      "image/png": "[encoded data removed]",
      "text/plain": [
       "<Figure size 900x180 with 5 Axes>"
      ]
     },
     "metadata": {
      "needs_background": "light"
     },
     "output_type": "display_data"
    }
   ],
   "source": [
    "#Plotting the Least Squares line\n",
    "\n",
    "sns.pairplot(df, x_vars=['potential', 'strength', 'vision', 'shot_power','stamina'],y_vars=['overall_rating'],kind='reg') #"
   ]
  },
  {
   "cell_type": "code",
   "execution_count": 107,
   "metadata": {},
   "outputs": [],
   "source": [
    "#Accuracy measures"
   ]
  },
  {
   "cell_type": "code",
   "execution_count": 133,
   "metadata": {},
   "outputs": [],
   "source": [
    "from sklearn import metrics\n",
    "import statsmodels.api as sm\n",
    "import numpy as np\n",
    "from sklearn import linear_model\n",
    "from sklearn.model_selection import train_test_split"
   ]
  },
  {
   "cell_type": "code",
   "execution_count": 137,
   "metadata": {},
   "outputs": [],
   "source": [
    "X = sm.add_constant(x) \n",
    "model1 = sm.OLS(y, X).fit() \n",
    "prediction1 = model1.predict(X)\n",
    "model1.summary()\n",
    "residual = y-prediction1\n"
   ]
  },
  {
   "cell_type": "code",
   "execution_count": 138,
   "metadata": {},
   "outputs": [
    {
     "name": "stdout",
     "output_type": "stream",
     "text": [
      "3.397366248685297\n",
      "25.612207021672464\n",
      "5.060850424748045\n"
     ]
    }
   ],
   "source": [
    "print(metrics.mean_absolute_error(y, prediction1))\n",
    "print(metrics.mean_squared_error(y, prediction1))\n",
    "print(np.sqrt(metrics.mean_squared_error(y, prediction1)))"
   ]
  },
  {
   "cell_type": "code",
   "execution_count": 139,
   "metadata": {},
   "outputs": [
    {
     "name": "stdout",
     "output_type": "stream",
     "text": [
      "5.008061825555917\n"
     ]
    }
   ],
   "source": [
    "# Since R-squared will always increase as you add more features to the model, I use test train split\n",
    "\n",
    "# Model evaluation\n",
    "X_train, X_test, y_train, y_test = train_test_split(x, y, random_state=1)\n",
    "\n",
    "# Instantiate model\n",
    "lm2 = LinearRegression()\n",
    "\n",
    "# Fit Model\n",
    "lm2.fit(X_train, y_train)\n",
    "\n",
    "# Predict\n",
    "y_pred = lm2.predict(X_test)\n",
    "\n",
    "# RMSE\n",
    "print(np.sqrt(metrics.mean_squared_error(y_test, y_pred)))"
   ]
  },
  {
   "cell_type": "code",
   "execution_count": null,
   "metadata": {},
   "outputs": [],
   "source": []
  },
  {
   "cell_type": "code",
   "execution_count": null,
   "metadata": {},
   "outputs": [],
   "source": []
  },
  {
   "cell_type": "code",
   "execution_count": null,
   "metadata": {},
   "outputs": [],
   "source": []
  },
  {
   "cell_type": "code",
   "execution_count": null,
   "metadata": {},
   "outputs": [],
   "source": []
  },
  {
   "cell_type": "code",
   "execution_count": null,
   "metadata": {},
   "outputs": [],
   "source": []
  }
 ],
 "metadata": {
  "kernelspec": {
   "display_name": "Python 3",
   "language": "python",
   "name": "python3"
  },
  "language_info": {
   "codemirror_mode": {
    "name": "ipython",
    "version": 3
   },
   "file_extension": ".py",
   "mimetype": "text/x-python",
   "name": "python",
   "nbconvert_exporter": "python",
   "pygments_lexer": "ipython3",
   "version": "3.7.3"
  }
 },
 "nbformat": 4,
 "nbformat_minor": 2
}
